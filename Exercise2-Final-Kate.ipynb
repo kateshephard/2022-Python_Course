{
 "cells": [
  {
   "cell_type": "markdown",
   "metadata": {},
   "source": [
    "## Exercise 2\n",
    "\n",
    "In the `FiniteDifferences` notebook we considered the differential equation controlling heat flow which relates the rate of change in $T$, the temperature, to spatial gradients in the same quantity. \n",
    "\n",
    "$$\n",
    "\\frac{\\partial T}{\\partial t} = \\kappa \\frac{\\partial^2 T}{\\partial x^2} + H\n",
    "$$\n",
    "       \n",
    "       \n",
    "We ignored $H$ and solved a number of examples. \n",
    "\n",
    "At the end of the notebook we looked at the time-varying solution of the heat equation using an explicit finite difference approximation. Given all the trouble we went to setting this up, don't you think it would be a good idea to see if we can iterate until we reach the steady-state solution?\n",
    "\n",
    "This is not very complicated to do so I would like you to try it __for the case where $\\kappa$ is constant__.\n",
    "\n",
    "You can copy and paste the cells from the `FiniteDifferences` here to get started."
   ]
  },
  {
   "cell_type": "code",
   "execution_count": 2,
   "metadata": {},
   "outputs": [],
   "source": [
    "import numpy as np\n",
    "import matplotlib.pyplot as plt "
   ]
  },
  {
   "cell_type": "markdown",
   "metadata": {
    "collapsed": true
   },
   "source": [
    "## Hints\n",
    "\n",
    "You have most of the code you need. The `np.gradient` function will still be useful ... in fact you really only have to put everything in a `for` loop and enforce the boundary conditions.\n"
   ]
  },
  {
   "cell_type": "code",
   "execution_count": 3,
   "metadata": {},
   "outputs": [],
   "source": [
    "## Creating a grid with 50 rows and 50 columns with a spacing of one \n",
    "ny = 50\n",
    "nx = 50\n",
    "dx = 1 \n",
    "dy = 1\n",
    "\n",
    "## Initial conditions \n",
    "T = np.zeros((ny,nx))\n",
    "T[0,:] = 300.\n",
    "T[-1,:] = 800.\n",
    "\n",
    "## Defining thermal conductivity, starting time and ending time \n",
    "k = 1.0 \n",
    "starting_time = 0 \n",
    "ending_time = 15000\n",
    "\n",
    "time = 0.0\n",
    "\n",
    "## Creating a for loop and an if statement - this will allow for the iteration until the solution\n",
    "## reaches a steady state \n",
    "for i in range (starting_time,ending_time): \n",
    "    \n",
    "    T_store = T.copy()\n",
    "    gradTx, gradTy = np.gradient(T, dx, dy) ## Derivative of time in each direction \n",
    "    flux_x = k*gradTx ## Gradient x diffusivity\n",
    "    flux_y = k*gradTy\n",
    "    \n",
    "## Second derivative \n",
    "    gradTxx, gradTxy = np.gradient(flux_x, dx, dy)\n",
    "    gradTyx, gradTyy = np.gradient(flux_y, dx, dy)\n",
    "\n",
    "    divT = gradTxx + gradTyy\n",
    "    dt = (dx*dy)/k ## Timestep size \n",
    "    time = time + dt\n",
    "\n",
    "    T_new = T + dt*divT\n",
    "    \n",
    "    T = T_new\n",
    "\n",
    "## Creating an if statement to break the loop when the difference between the previous \n",
    "## value and the most recent output is less than 0.001 - close to steady state\n",
    "    if np.all(np.abs(T-T_store)<0.001): \n",
    "        break "
   ]
  },
  {
   "cell_type": "code",
   "execution_count": 4,
   "metadata": {},
   "outputs": [
    {
     "name": "stdout",
     "output_type": "stream",
     "text": [
      "10176\n"
     ]
    }
   ],
   "source": [
    "## Determine after how many timesteps the for loop goes through before reaching the if statement requirements \n",
    "print(i)"
   ]
  },
  {
   "cell_type": "code",
   "execution_count": 5,
   "metadata": {},
   "outputs": [
    {
     "data": {
      "image/png": "[encoded data removed]",
      "text/plain": [
       "<Figure size 1080x864 with 2 Axes>"
      ]
     },
     "metadata": {
      "needs_background": "light"
     },
     "output_type": "display_data"
    }
   ],
   "source": [
    "## Visualisation of the gradient of the second last iteration (left) and second last iteration (right) \n",
    "fig, (ax1, ax2) = plt.subplots(1,2, sharey=True, figsize=(15,12))\n",
    "ax1.imshow(T)\n",
    "ax1.set_title('Second last iteration temperature (Kelvin)', fontsize = 15)\n",
    "ax2.imshow(T_new)\n",
    "ax2.set_title('Last iteration temperature (Kelvin)', fontsize = 15)\n",
    "\n",
    "pass"
   ]
  },
  {
   "cell_type": "code",
   "execution_count": 6,
   "metadata": {},
   "outputs": [],
   "source": [
    "## From the above exercise, we explore the temperature gradient of a solution thorugh an area. \n",
    "## The two plots above have confirmed that the temperature flow has reached a steady state. This \n",
    "## has been reached after 10176 timesteps and has been calculated through the for loop created. \n",
    "\n",
    "## We will now test the same process but change the timestep. With this we can find a maximum value \n",
    "## of the timestep before it creates an instability in the code."
   ]
  },
  {
   "cell_type": "markdown",
   "metadata": {},
   "source": [
    "We know that there is an instability in the code which occurs if the timestep is too large. Currently the timestep size is related to the size of the mesh and the diffusivity:\n",
    "\n",
    "$$\n",
    "\\Delta t = \\frac{\\Delta x \\Delta y}{\\kappa}\n",
    "$$\n",
    "\n",
    "\n",
    "What happens if you overwrite the timestep size, `dt`? What is the point where the solution begins to breakdown and you see wild oscillations? Is it pretty close to the above relation?"
   ]
  },
  {
   "cell_type": "code",
   "execution_count": 24,
   "metadata": {},
   "outputs": [
    {
     "data": {
      "image/png": "[encoded data removed]",
      "text/plain": [
       "<Figure size 1080x864 with 2 Axes>"
      ]
     },
     "metadata": {
      "needs_background": "light"
     },
     "output_type": "display_data"
    }
   ],
   "source": [
    "## Creating a grid with 50 rows and 50 columns with a spacing of one \n",
    "ny = 50\n",
    "nx = 50\n",
    "dx = 1 \n",
    "dy = 1\n",
    "\n",
    "## Initial conditions \n",
    "T = np.zeros((ny,nx))\n",
    "T[0,:] = 300.\n",
    "T[-1,:] = 800.\n",
    "\n",
    "## Defining thermal conductivity, starting time and ending time \n",
    "k = 1.0 \n",
    "starting_time = 0 \n",
    "ending_time = 15000\n",
    "\n",
    "time = 0.0\n",
    "\n",
    "## Creating a for loop and an if statement - this will allow for the iteration until the solution\n",
    "## reaches a steady state \n",
    "\n",
    "for i in range (starting_time,ending_time): \n",
    "    \n",
    "    T_store = T.copy()\n",
    "    gradTx, gradTy = np.gradient(T, dx, dy) ## Derivative of time in each direction \n",
    "    flux_x = k*gradTx ## Gradient x diffusivity\n",
    "    flux_y = k*gradTy\n",
    "    \n",
    "## Second derivative \n",
    "    gradTxx, gradTxy = np.gradient(flux_x, dx, dy)\n",
    "    gradTyx, gradTyy = np.gradient(flux_y, dx, dy)\n",
    "\n",
    "    divT = gradTxx + gradTyy\n",
    "    dt = 2.01\n",
    "    \n",
    "    time = time + dt\n",
    "\n",
    "    T_new = T + dt*divT\n",
    "    \n",
    "    T = T_new\n",
    "    \n",
    "## Visualisation of the gradient of the second last iteration (left) and second last iteration (right) \n",
    "fig, (ax1, ax2) = plt.subplots(1,2, sharey=True, figsize=(15,12))\n",
    "ax1.imshow(T)\n",
    "ax1.set_title('Second last iteration temperature (Kelvin)', fontsize = 15)\n",
    "ax2.imshow(T_new)\n",
    "ax2.set_title('Last iteration temperature (Kelvin)', fontsize = 15)\n",
    "\n",
    "pass"
   ]
  },
  {
   "cell_type": "code",
   "execution_count": 22,
   "metadata": {},
   "outputs": [],
   "source": [
    "## It has been found that a timestep above 2.01 will create wild oscilations within the dataset. \n",
    "## Through the visualisation of this data, we are able to understand that the solution begins to breakdown. \n",
    "## In the first part of this exercise, an equation was given for the timestep equalling 1. In the \n",
    "## second part of the exercise, we have found that the time step can be doubled with no issues, but\n",
    "## once this timestep increases past two, oscillations in the dataset can be seen. \n",
    "\n",
    "## The timestep has been increased to two in this example. You can change the values to anything above \n",
    "## 2 to observe these oscillations due to the breakdown of the solution. "
   ]
  }
 ],
 "metadata": {
  "kernelspec": {
   "display_name": "Python38",
   "language": "python",
   "name": "python38"
  },
  "language_info": {
   "codemirror_mode": {
    "name": "ipython",
    "version": 3
   },
   "file_extension": ".py",
   "mimetype": "text/x-python",
   "name": "python",
   "nbconvert_exporter": "python",
   "pygments_lexer": "ipython3",
   "version": "3.9.7"
  }
 },
 "nbformat": 4,
 "nbformat_minor": 1
}
